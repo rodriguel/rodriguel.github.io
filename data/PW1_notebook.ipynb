{
  "nbformat": 4,
  "nbformat_minor": 0,
  "metadata": {
    "colab": {
      "name": "Untitled3.ipynb",
      "provenance": [],
      "collapsed_sections": []
    },
    "kernelspec": {
      "name": "python3",
      "display_name": "Python 3"
    },
    "language_info": {
      "name": "python"
    }
  },
  "cells": [
    {
      "cell_type": "code",
      "execution_count": 1,
      "metadata": {
        "id": "3XEels6XYL0V"
      },
      "outputs": [],
      "source": [
        "import numpy as np\n",
        "import matplotlib.pyplot as plt\n",
        "import scipy.special.lambertw as W\n",
        "plt.style.use('seaborn')\n",
        "plt.rcParams['figure.dpi'] = 120"
      ]
    },
    {
      "cell_type": "markdown",
      "source": [
        "# Problem 1 — Stiff equations"
      ],
      "metadata": {
        "id": "qtTbn31ZcjQr"
      }
    },
    {
      "cell_type": "code",
      "source": [
        "T = ; N = ; h = T/N; Lambda = ; Epsilon = ###FILL###: Parameters \n",
        "g = lambda t : np.tanh(t + 2); g = np.vectorize(g)\n",
        "g_d = lambda t : ###FILL###: Derivative of g(t)\n",
        "f = lambda t, y : Lambda*(y - g(t)) + g_d(t)"
      ],
      "metadata": {
        "id": "xLKPyQuaYMah"
      },
      "execution_count": null,
      "outputs": []
    },
    {
      "cell_type": "markdown",
      "source": [
        "#Problem 1.a. *Forward Euler scheme*"
      ],
      "metadata": {
        "id": "8zGabCOjcAqI"
      }
    },
    {
      "cell_type": "code",
      "source": [
        "y_EE = np.array([g(0) + Epsilon])\n",
        "\n",
        "###FILL###: Implement the EE scheme \n",
        "\n",
        "# Plots\n",
        "xx_num = [i*h for i in range(N+1)]; xx_num = np.array(xx_num)\n",
        "xx_sol = np.linspace(0,T,100*T)\n",
        "\n",
        "plt.subplot(211)\n",
        "plt.plot(xx_num, y_EE, marker = \"o\", ls = \"--\", lw = \"1\", c = \"red\")\n",
        "plt.plot(xx_sol, g(xx_sol), lw = \"2\", c = \"blue\")\n",
        "plt.legend((\"$(y_k)_k$\", \"$g(t)$\"))\n",
        "plt.subplot(212)\n",
        "p2 = plt.plot(xx_num, y_EE - g(xx_num),\n",
        "              marker = \"o\", ls = \"--\", lw = \"1\", c = \"k\")"
      ],
      "metadata": {
        "id": "rF2pTKL8Yv92"
      },
      "execution_count": null,
      "outputs": []
    },
    {
      "cell_type": "markdown",
      "source": [
        "#Problem 1.b. *4th-order Runge-Kutta scheme*"
      ],
      "metadata": {
        "id": "hX6SX2sccJi8"
      }
    },
    {
      "cell_type": "code",
      "source": [
        "y_RK = np.array([g(0) + Epsilon])\n",
        "\n",
        "###FILL###: Implement the RK4 scheme \n",
        "\n",
        "###FILL###: Plot as previously"
      ],
      "metadata": {
        "id": "fP2aQIDaZRko"
      },
      "execution_count": null,
      "outputs": []
    },
    {
      "cell_type": "markdown",
      "source": [
        "#Problem 1.c. *Regions of stability*"
      ],
      "metadata": {
        "id": "9MN-avtjcPwg"
      }
    },
    {
      "cell_type": "code",
      "source": [
        "s_EE = lambda z : ###FILL###: Function s(z) for the EE scheme\n",
        "s_EE = np.vectorize(s_EE)\n",
        "s_RK = lambda z : ###FILL###: Function s(z) for the RK4 scheme\n",
        "s_RK = np.vectorize(s_RK)\n",
        "\n",
        "\n",
        "# Contour plots \n",
        "xx = np.arange(-4, 4, 10e-3); yy = np.arange(-4, 4, 10e-3)\n",
        "X, Y = np.meshgrid(xx, yy); C = X + 1j*Y\n",
        "Z_EE = np.absolute(s_EE(C))\n",
        "Z_RK = np.absolute(s_RK(C))\n",
        "\n",
        "_, ax = plt.subplots() \n",
        "C_EE = ax.contour(X, Y, Z_EE, levels=[1], colors = \"k\")\n",
        "C_RK = ax.contour(X, Y, Z_RK, levels=[1], colors = \"r\")\n",
        "doo_EE, _ = C_EE.legend_elements(); doo_RK, _ = C_RK.legend_elements()\n",
        "ax.legend([doo_EE[0], doo_RK[0]], ['EE', '4th order RK'])"
      ],
      "metadata": {
        "id": "NNH4ZF8DZhPN"
      },
      "execution_count": null,
      "outputs": []
    },
    {
      "cell_type": "markdown",
      "source": [
        "#Problem 1.d. *Backward Euler scheme*"
      ],
      "metadata": {
        "id": "dxUa_IUCcXVF"
      }
    },
    {
      "cell_type": "code",
      "source": [
        "y_EI = np.array([g(0) + Epsilon])\n",
        "\n",
        "###FILL###: Implement the EI scheme \n",
        "\n",
        "###FILL###: Plot as previously"
      ],
      "metadata": {
        "id": "YewHIqhQZzjD"
      },
      "execution_count": null,
      "outputs": []
    },
    {
      "cell_type": "markdown",
      "source": [
        "# Problem 2 — Orders of convergence"
      ],
      "metadata": {
        "id": "N-nkE5sTcePV"
      }
    },
    {
      "cell_type": "code",
      "source": [
        "f_1 = lambda t,y : y; y_10 = 1\n",
        "y_1 = lambda t: np.exp(t); y_1 = np.vectorize(y_1)\n",
        "f_2 = lambda t, y : 1 + np.sqrt(y); y_20 = 0\n",
        "y_2 = lambda t: (1 + W(-np.exp(-1 - t/2) + 10e-10))**2; y_2 = np.vectorize(y_2)"
      ],
      "metadata": {
        "id": "EyUsnO9zaHJA"
      },
      "execution_count": null,
      "outputs": []
    },
    {
      "cell_type": "code",
      "source": [
        "def tau_EE(f, y_0, y_true, T, N):\n",
        "  ###FILL###: Implement tau_EE which returns tau(T/N) for the EE scheme\n",
        "\n",
        "def tau_H(f, y_0, y_true, T, N):\n",
        "  ###FILL###: Implement tau_H which returns tau(T/N) for the H scheme\n",
        "\n",
        "def tau_RK(f, y_0, y_true, T, N):\n",
        "  ###FILL###: Implement tau_RK which returns tau(T/N) for the RK4 scheme"
      ],
      "metadata": {
        "id": "l_R_SpSAaSgZ"
      },
      "execution_count": null,
      "outputs": []
    },
    {
      "cell_type": "markdown",
      "source": [
        "# Problem 2.a. Dynamic $f_1(t,y)$"
      ],
      "metadata": {
        "id": "s_BOhCsxcrLW"
      }
    },
    {
      "cell_type": "code",
      "source": [
        "NN = [2**q for q in range(1, 10)]; N_l = len(NN)\n",
        "\n",
        "T = ###FILL###: Parameter\n",
        "\n",
        "errors_EE_1 = np.array([tau_EE(f_1, y_10, y_1, T, NN[i]) for i in range(N_l)])\n",
        "diff_EE_1 = errors_EE_1[:-1]/errors_EE_1[1:]\n",
        "\n",
        "errors_H_1 = ###FILL###: As errors_EE_1 but for the H scheme\n",
        "diff_H_1 = ###FILL###: As diff_EE_1 but for the H scheme\n",
        "\n",
        "errors_RK_1 = ###FILL###: As errors_EE_1 but for the RK4 scheme\n",
        "diff_RK_1 =  ###FILL###: As diff_EE_1 but for the RK4 scheme\n",
        "\n",
        "###FILL###: Plot function q -> log_2(tau(...)/tau(...)) for the three schemes"
      ],
      "metadata": {
        "id": "fYTZompcarQ4"
      },
      "execution_count": null,
      "outputs": []
    },
    {
      "cell_type": "markdown",
      "source": [
        "#Problem 2.b. Dynamic $f_2(t,y)$"
      ],
      "metadata": {
        "id": "WPu_B9mEcz2D"
      }
    },
    {
      "cell_type": "code",
      "source": [
        "NN = [2**q for q in range(1, 10)]; N_l = len(NN)\n",
        "\n",
        "T = ###FILL###: Parameter\n",
        "\n",
        "errors_EE_2 = ###FILL###: Same errors_EE_1 but for the dynamic f_2\n",
        "errors_H_2 = ###FILL###: Same errors_H_1 but for the dynamic f_2\n",
        "errors_RK_2 = ###FILL###: Same errors_RK4_1 but for the dynamic f_2\n",
        "\n",
        "###FILL###: Plot the errors q -> tau(...) for the three schemes"
      ],
      "metadata": {
        "id": "zLriHXehc3Eh"
      },
      "execution_count": null,
      "outputs": []
    }
  ]
}