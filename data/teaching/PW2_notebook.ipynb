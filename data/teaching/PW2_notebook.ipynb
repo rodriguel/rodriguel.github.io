{
  "nbformat": 4,
  "nbformat_minor": 0,
  "metadata": {
    "colab": {
      "name": "PW2_notebook.ipynb",
      "provenance": [],
      "collapsed_sections": []
    },
    "kernelspec": {
      "name": "python3",
      "display_name": "Python 3"
    },
    "language_info": {
      "name": "python"
    }
  },
  "cells": [
    {
      "cell_type": "code",
      "execution_count": null,
      "metadata": {
        "id": "3hDhYxgfHjNq"
      },
      "outputs": [],
      "source": [
        "import numpy as np\n",
        "import matplotlib.pyplot as plt\n",
        "plt.style.use('seaborn')\n",
        "plt.rcParams['figure.dpi'] = 120"
      ]
    },
    {
      "cell_type": "markdown",
      "source": [
        "# I— Primum Prima"
      ],
      "metadata": {
        "id": "CBmLVac4NIaO"
      }
    },
    {
      "cell_type": "code",
      "source": [
        "def W(T, N):\n",
        "  # FILL #\n",
        "\n",
        "def I(f, T, N, Ws):\n",
        "  # FILL #\n"
      ],
      "metadata": {
        "id": "lHqY9CNbMDMy"
      },
      "execution_count": null,
      "outputs": []
    },
    {
      "cell_type": "code",
      "source": [
        "# Plot of M realizations of the Wiener process of [0,T]\n",
        "\n",
        "T = ; N = ; M = # FILL\n",
        "\n",
        "TT = [T/N*i for i in range(N + 1)]\n",
        "for _ in range(M):\n",
        "  # FILL #\n",
        "plt.title(f\"{M} realizations of the Wiener process on [0,{T}]\")"
      ],
      "metadata": {
        "id": "sA1EBu9OtIff"
      },
      "execution_count": null,
      "outputs": []
    },
    {
      "cell_type": "markdown",
      "source": [
        "# II — Schemes and orders of convergence"
      ],
      "metadata": {
        "id": "Ermyig4iXwuz"
      }
    },
    {
      "cell_type": "code",
      "source": [
        "# Parameters and initial condition\n",
        "beta = ; gamma = ; x_0 = ; # FILL #\n",
        "\n",
        "# Drift and diffusion coefficients \n",
        "a = lambda x : # FILL #\n",
        "b = lambda x : # FILL #\n",
        "db = lambda x : # FILL # (Derivative of b)\n",
        "\n",
        "# True solution of the Gompertzian\n",
        "x = lambda t, w : np.exp(np.log(x_0)*np.exp(-beta*t) \\\n",
        "    - gamma**2/(2*beta)*(1 - np.exp(-beta*t)) \\\n",
        "    + gamma*np.exp(-beta*t)*w)\n",
        "\n",
        "\n",
        "def EM(T, N, numberOfPaths):\n",
        "  h = T/N\n",
        "  wienerPaths = [W(T,N) for _ in range(numberOfPaths)]\n",
        "  results = np.zeros(numberOfPaths)\n",
        "  for i in range(numberOfPaths):\n",
        "    # FILL # (EM scheme)\n",
        "  return results, wienerPaths\n",
        "\n",
        "def M(T, N, numberOfPaths):\n",
        "  # FILL # (M scheme as previously)\n"
      ],
      "metadata": {
        "id": "nWP3BHKc6tBF"
      },
      "execution_count": null,
      "outputs": []
    },
    {
      "cell_type": "code",
      "source": [
        "Q = 10\n",
        "strong_errors_N_EM = np.zeros(Q); weak_errors_N_EM = np.zeros(Q)\n",
        "strong_errors_N_M = np.zeros(Q);  weak_errors_N_M = np.zeros(Q)\n",
        "\n",
        "f_trial_w = lambda x : # FILL # (Trial function for the weak convergence)\n",
        "f_trial_w = np.vectorize(f_trial_w)\n",
        "\n",
        "T = ; numberOfPaths = # FILL #\n",
        "\n",
        "for q in range(1, Q+1):\n",
        "  resultsEM, wienerPathsEM = EM(T, 2**q, numberOfPaths)\n",
        "  resultsM, wienerPathsM = M(T, 2**q, numberOfPaths)\n",
        "\n",
        "  trueResultsEM = np.array([x(T, I(g, T, 2**q, wienerPathsEM[i])) for i in range(numberOfPaths)])\n",
        "  trueResultsM = # FILL #\n",
        "\n",
        "  strong_errors_N_EM[q-1] = # FILL #\n",
        "  strong_errors_N_M[q-1] = # FILL #\n",
        "  weak_errors_N_EM[q-1] = # FILL #\n",
        "  weak_errors_N_M[q-1] = # FILL #\n"
      ],
      "metadata": {
        "id": "10YUMOE7-piZ"
      },
      "execution_count": null,
      "outputs": []
    },
    {
      "cell_type": "code",
      "source": [
        "strong_diff_EM = strong_errors_N_EM[:-1]/strong_errors_N_EM[1:]\n",
        "strong_diff_M = # FILL #\n",
        "weak_diff_EM = # FILL #\n",
        "weak_diff_M = # FILL #\n",
        "\n",
        "# Plots\n",
        "plt.plot(np.log(strong_diff_EM)/np.log(2), marker = \"o\", ls = \"--\", lw = \"1\", c = \"red\") \n",
        "plt.plot(np.log(strong_diff_M)/np.log(2), marker = \"o\", ls = \"--\", lw = \"1\", c = \"blue\")\n",
        "plt.plot(np.log(weak_diff_EM)/np.log(2), marker = \"o\", ls = \"--\", lw = \"1\", c = \"green\") \n",
        "plt.plot(np.log(weak_diff_M)/np.log(2), marker = \"o\", ls = \"--\", lw = \"1\", c = \"orange\")\n",
        "plt.legend((\"EM (strong)\", \"M (strong)\", \"EM (weak)\", \"M (weak)\")) "
      ],
      "metadata": {
        "id": "hodnpEaHD6Gb"
      },
      "execution_count": null,
      "outputs": []
    },
    {
      "cell_type": "code",
      "source": [
        ""
      ],
      "metadata": {
        "id": "mcGq5w2WGJvf"
      },
      "execution_count": null,
      "outputs": []
    }
  ]
}